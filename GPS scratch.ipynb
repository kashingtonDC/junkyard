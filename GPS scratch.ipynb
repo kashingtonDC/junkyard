{
 "cells": [
  {
   "cell_type": "code",
   "execution_count": 1,
   "id": "74defe3f",
   "metadata": {},
   "outputs": [
    {
     "name": "stderr",
     "output_type": "stream",
     "text": [
      "/opt/anaconda3/envs/rsenv/lib/python3.8/site-packages/geopandas/_compat.py:106: UserWarning: The Shapely GEOS version (3.10.2-CAPI-1.16.0) is incompatible with the GEOS version PyGEOS was compiled with (3.8.1-CAPI-1.13.3). Conversions between both will be slow.\n",
      "  warnings.warn(\n"
     ]
    }
   ],
   "source": [
    "# import numpy as np\n",
    "import geopandas as gp\n",
    "gp.options.display_precision=9\n",
    "\n",
    "from shapely.geometry import Point\n",
    "\n",
    "def dms_to_dd(d, m, s):\n",
    "    dd = d + float(m)/60 + float(s)/3600\n",
    "    return dd\n",
    "\n",
    "def ll_to_utm_gdf(shapely_pt_obj):\n",
    "    gdf = gp.GeoDataFrame({'geometry': [shapely_pt_obj]},crs='EPSG:4326') \n",
    "    return gdf.to_crs(gdf.estimate_utm_crs())\n"
   ]
  },
  {
   "cell_type": "code",
   "execution_count": 2,
   "id": "d51b520c",
   "metadata": {},
   "outputs": [
    {
     "data": {
      "text/plain": [
       "0    4.613433\n",
       "dtype: float64"
      ]
     },
     "execution_count": 2,
     "metadata": {},
     "output_type": "execute_result"
    }
   ],
   "source": [
    "benchmark_lat = 35,16,56.31\n",
    "benchmark_lon = -120,-39,-41.88\n",
    "\n",
    "phone_ll = Point(-120.661682,35.282320)\n",
    "phone_ll2 = Point(-120.661716,35.282289)\n",
    "benchmark_ll = Point(dms_to_dd(*benchmark_lon),dms_to_dd(*benchmark_lat))\n",
    "\n",
    "phone_gdf = gp.GeoDataFrame({'geometry': [phone_ll]},crs='EPSG:4326') \n",
    "bench_gdf = gp.GeoDataFrame({'geometry': [benchmark_ll]},crs='EPSG:4326') \n",
    "\n",
    "phone_gdf = phone_gdf.to_crs(phone_gdf.estimate_utm_crs())\n",
    "bench_gdf = bench_gdf.to_crs(bench_gdf.estimate_utm_crs())\n",
    "\n",
    "phone_gdf.distance(bench_gdf)\n"
   ]
  },
  {
   "cell_type": "code",
   "execution_count": 3,
   "id": "e832cedd",
   "metadata": {},
   "outputs": [],
   "source": [
    "phgdf_2 = ll_to_utm_gdf(phone_ll2)"
   ]
  },
  {
   "cell_type": "code",
   "execution_count": 4,
   "id": "98e6940d",
   "metadata": {},
   "outputs": [
    {
     "data": {
      "text/plain": [
       "0    7.821616\n",
       "dtype: float64"
      ]
     },
     "execution_count": 4,
     "metadata": {},
     "output_type": "execute_result"
    }
   ],
   "source": [
    "phgdf_2.distance(bench_gdf)"
   ]
  },
  {
   "cell_type": "code",
   "execution_count": null,
   "id": "1bceac94",
   "metadata": {},
   "outputs": [],
   "source": []
  }
 ],
 "metadata": {
  "kernelspec": {
   "display_name": "Python 3 (ipykernel)",
   "language": "python",
   "name": "python3"
  },
  "language_info": {
   "codemirror_mode": {
    "name": "ipython",
    "version": 3
   },
   "file_extension": ".py",
   "mimetype": "text/x-python",
   "name": "python",
   "nbconvert_exporter": "python",
   "pygments_lexer": "ipython3",
   "version": "3.8.10"
  }
 },
 "nbformat": 4,
 "nbformat_minor": 5
}
