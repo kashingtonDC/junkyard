{
 "cells": [
  {
   "cell_type": "code",
   "execution_count": 2,
   "id": "535ce9a7",
   "metadata": {},
   "outputs": [],
   "source": [
    "from osgeo import gdal,ogr,osr\n",
    "vector_ds  = ogr.Open('kw_grids.shp')\n",
    "layer = vector_ds.GetLayer()\n",
    "shp_fn = 'kw_grids.shp'\n",
    "output_raster = 'kw_grids.tif'\n",
    "pixel_size = 1609.34\n",
    "xmin, xmax, ymin, ymax = layer.GetExtent()\n",
    "ds = gdal.Rasterize(output_raster, shp_fn, xRes=pixel_size, yRes=pixel_size, \n",
    "                    attribute='Val',outputBounds=[xmin, ymin, xmax, ymax], \n",
    "                    outputType=gdal.GDT_Byte)\n",
    "ds = None"
   ]
  },
  {
   "cell_type": "code",
   "execution_count": 4,
   "id": "93e86183",
   "metadata": {},
   "outputs": [
    {
     "data": {
      "text/plain": [
       "<matplotlib.image.AxesImage at 0x13c86e520>"
      ]
     },
     "execution_count": 4,
     "metadata": {},
     "output_type": "execute_result"
    },
    {
     "data": {
      "image/png": "[encoded data removed]",
      "text/plain": [
       "<Figure size 432x288 with 1 Axes>"
      ]
     },
     "metadata": {
      "needs_background": "light"
     },
     "output_type": "display_data"
    }
   ],
   "source": [
    "import rasterio as rio\n",
    "import matplotlib.pyplot as plt\n",
    "\n",
    "src = rio.open('kw_grids.tif')\n",
    "arr = src.read(1)\n",
    "plt.imshow(arr)"
   ]
  },
  {
   "cell_type": "code",
   "execution_count": null,
   "id": "e7a53fc9",
   "metadata": {},
   "outputs": [],
   "source": []
  }
 ],
 "metadata": {
  "kernelspec": {
   "display_name": "Python 3",
   "language": "python",
   "name": "python3"
  },
  "language_info": {
   "codemirror_mode": {
    "name": "ipython",
    "version": 3
   },
   "file_extension": ".py",
   "mimetype": "text/x-python",
   "name": "python",
   "nbconvert_exporter": "python",
   "pygments_lexer": "ipython3",
   "version": "3.8.10"
  }
 },
 "nbformat": 4,
 "nbformat_minor": 5
}
