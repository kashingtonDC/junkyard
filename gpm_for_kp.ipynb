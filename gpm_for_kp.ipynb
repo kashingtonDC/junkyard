{
 "cells": [
  {
   "cell_type": "code",
   "execution_count": 1,
   "id": "c2f68f99",
   "metadata": {},
   "outputs": [],
   "source": [
    "import ee\n",
    "import numpy as np\n",
    "import pandas as pd\n",
    "import geopandas as gp\n",
    "from tqdm import tqdm\n",
    "from osgeo import gdal, osr\n",
    "\n",
    "import matplotlib.pyplot as plt\n",
    "\n",
    "ee.Initialize()"
   ]
  },
  {
   "cell_type": "code",
   "execution_count": 2,
   "id": "4fda0c97",
   "metadata": {},
   "outputs": [],
   "source": [
    "# Set up the data objects to query EE\n",
    "data = {}\n",
    "\n",
    "# Image collection, variable name, scaling factor, spatial res\n",
    "data['gpm_daily'] = [ee.ImageCollection(\"NASA/GPM_L3/IMERG_V06\"), \"HQprecipitation\", 1, 12500]\n",
    "data['gpm_monthly'] = [ee.ImageCollection(\"NASA/GPM_L3/IMERG_MONTHLY_V06\"), \"precipitation\", 720, 12500]"
   ]
  },
  {
   "cell_type": "code",
   "execution_count": 3,
   "id": "a91790b8",
   "metadata": {},
   "outputs": [
    {
     "data": {
      "text/plain": [
       "<AxesSubplot:>"
      ]
     },
     "execution_count": 3,
     "metadata": {},
     "output_type": "execute_result"
    },
    {
     "data": {
      "image/png": "[encoded data removed]",
      "text/plain": [
       "<Figure size 432x288 with 1 Axes>"
      ]
     },
     "metadata": {
      "needs_background": "light"
     },
     "output_type": "display_data"
    }
   ],
   "source": [
    "gdf = gp.read_file(\"cv.shp\")\n",
    "gdf.plot()"
   ]
  },
  {
   "cell_type": "code",
   "execution_count": 4,
   "id": "a3fe656a",
   "metadata": {},
   "outputs": [],
   "source": [
    "# Functions \n",
    "\n",
    "# Convert gdf to earth engine object \n",
    "def gdf_to_ee_poly(gdf, simplify = True):\n",
    "\n",
    "    if simplify:\n",
    "        gdf = gdf.geometry.simplify(0.01)\n",
    "    \n",
    "    lls = gdf.geometry.iloc[0]\n",
    "    x,y = lls.exterior.coords.xy\n",
    "    coords = [list(zip(x,y))]\n",
    "    area = ee.Geometry.Polygon(coords)\n",
    "\n",
    "    return area\n",
    "\n",
    "def get_ims_monthly(dataset, startdate,enddate, area, return_dates = False, table = False, monthly_mean = False,  monthly_sum = False):\n",
    "    \n",
    "    '''\n",
    "    Returns monthly gridded images for EE datasets \n",
    "    '''\n",
    "\n",
    "    ImageCollection = dataset[0]\n",
    "    var = dataset[1]\n",
    "    scaling_factor = dataset[2]\n",
    "    native_res = dataset[3]\n",
    "\n",
    "    dt_idx = pd.date_range(startdate,enddate, freq='MS')\n",
    "    ims = []\n",
    "    seq = ee.List.sequence(0, len(dt_idx)-1)\n",
    "    num_steps = seq.getInfo()\n",
    "\n",
    "    print(\"processing:\")\n",
    "    print(\"{}\".format(ImageCollection.first().getInfo()['id']))\n",
    "\n",
    "    for i in tqdm(num_steps):\n",
    "\n",
    "        start = ee.Date(startdate).advance(i, 'month')\n",
    "        end = start.advance(1, 'month');\n",
    "\n",
    "        im = ee.ImageCollection(ImageCollection).select(var).filterDate(start, end).set('system:time_start', end.millis())\n",
    "        im2 = ee.ImageCollection(im.mean())\n",
    "        result = im2.getRegion(area,native_res,\"epsg:4326\").getInfo()\n",
    "        ims.append(result)\n",
    "\n",
    "    results = []\n",
    "    print(\"postprocesing\")\n",
    "\n",
    "    for im in tqdm(ims):\n",
    "        header, data = im[0], im[1:]\n",
    "\n",
    "        df = pd.DataFrame(np.column_stack(data).T, columns = header)\n",
    "        df.latitude = pd.to_numeric(df.latitude)\n",
    "        df.longitude = pd.to_numeric(df.longitude)\n",
    "        df[var] = pd.to_numeric(df[var])\n",
    "\n",
    "        images = []\n",
    "\n",
    "        for idx,i in enumerate(df.id.unique()):\n",
    "\n",
    "            t1 = df[df.id==i]\n",
    "            arr = array_from_df(t1,var)\n",
    "            arr[arr == 0] = np.nan\n",
    "            images.append(arr*scaling_factor)# This is the only good place to apply the scaling factor. \n",
    "\n",
    "        results.append(images) \n",
    "\n",
    "    print(\"====COMPLETE=====\")\n",
    "\n",
    "    return [item for sublist in results for item in sublist] \n",
    "\n",
    "\n",
    "def get_ims_daily(dataset, startdate,enddate, area, return_dates = False, table = False, monthly_mean = False,  monthly_sum = False):\n",
    "    \n",
    "    '''\n",
    "    Returns monthly gridded images for EE datasets \n",
    "    '''\n",
    "\n",
    "    ImageCollection = dataset[0]\n",
    "    var = dataset[1]\n",
    "    scaling_factor = dataset[2]\n",
    "    native_res = dataset[3]\n",
    "\n",
    "    dt_idx = pd.date_range(startdate,enddate, freq='B')\n",
    "    ims = []\n",
    "    seq = ee.List.sequence(0, len(dt_idx)-1)\n",
    "    num_steps = seq.getInfo()\n",
    "\n",
    "    print(\"processing:\")\n",
    "    print(\"{}\".format(ImageCollection.first().getInfo()['id']))\n",
    "\n",
    "    for i in tqdm(num_steps):\n",
    "\n",
    "        start = ee.Date(startdate).advance(i, 'day')\n",
    "        end = start.advance(1, 'day');\n",
    "\n",
    "        im = ee.ImageCollection(ImageCollection).select(var).filterDate(start, end).set('system:time_start', end.millis())\n",
    "        im2 = ee.ImageCollection(im.mean())\n",
    "        result = im2.getRegion(area,native_res,\"epsg:4326\").getInfo()\n",
    "        ims.append(result)\n",
    "\n",
    "    results = []\n",
    "    print(\"postprocesing\")\n",
    "\n",
    "    for im in tqdm(ims):\n",
    "        header, data = im[0], im[1:]\n",
    "\n",
    "        df = pd.DataFrame(np.column_stack(data).T, columns = header)\n",
    "        df.latitude = pd.to_numeric(df.latitude)\n",
    "        df.longitude = pd.to_numeric(df.longitude)\n",
    "        df[var] = pd.to_numeric(df[var])\n",
    "\n",
    "        images = []\n",
    "\n",
    "        for idx,i in enumerate(df.id.unique()):\n",
    "\n",
    "            t1 = df[df.id==i]\n",
    "            arr = array_from_df(t1,var)\n",
    "            arr[arr == 0] = np.nan\n",
    "            images.append(arr*scaling_factor)# This is the only good place to apply the scaling factor. \n",
    "\n",
    "        results.append(images) \n",
    "\n",
    "    print(\"====COMPLETE=====\")\n",
    "\n",
    "    return [item for sublist in results for item in sublist] \n",
    "\n",
    "    \n",
    "def array_from_df(df, variable):    \n",
    "\n",
    "    '''\n",
    "    Convets a pandas df with lat, lon, variable to a numpy array \n",
    "    '''\n",
    "\n",
    "    # get data from df as arrays\n",
    "    lons = np.array(df.longitude)\n",
    "    lats = np.array(df.latitude)\n",
    "    data = np.array(df[variable]) # Set var here \n",
    "                                              \n",
    "    # get the unique coordinates\n",
    "    uniqueLats = np.unique(lats)\n",
    "    uniqueLons = np.unique(lons)\n",
    "\n",
    "    # get number of columns and rows from coordinates\n",
    "    ncols = len(uniqueLons)    \n",
    "    nrows = len(uniqueLats)\n",
    "\n",
    "    # determine pixelsizes\n",
    "    ys = uniqueLats[1] - uniqueLats[0] \n",
    "    xs = uniqueLons[1] - uniqueLons[0]\n",
    "\n",
    "    # create an array with dimensions of image\n",
    "    arr = np.zeros([nrows, ncols], np.float32)\n",
    "\n",
    "    # fill the array with values\n",
    "    counter =0\n",
    "    for y in range(0,len(arr),1):\n",
    "        for x in range(0,len(arr[0]),1):\n",
    "            if lats[counter] == uniqueLats[y] and lons[counter] == uniqueLons[x] and counter < len(lats)-1:\n",
    "                counter+=1\n",
    "                arr[len(uniqueLats)-1-y,x] = data[counter] # we start from lower left corner\n",
    "    \n",
    "    return arr\n",
    "\n",
    "def write_raster(array,gdf,outfn):\n",
    "    '''\n",
    "    converts a numpy array and a geopandas gdf to a geotiff\n",
    "    Data values are stored in np.array\n",
    "    spatial coordinates stored in gdf\n",
    "    outfn - outpath\n",
    "    '''\n",
    "    \n",
    "    xmin, ymin = gdf.bounds.minx.values[0], gdf.bounds.miny.values[0]\n",
    "    xmax, ymax = gdf.bounds.maxx.values[0], gdf.bounds.maxy.values[0]\n",
    "    nrows, ncols = array.shape\n",
    "    xres = (xmax-xmin)/float(ncols)\n",
    "    yres = (ymax-ymin)/float(nrows)\n",
    "    geotransform =(xmin,xres,0,ymax,0, -yres)   \n",
    "\n",
    "    output_raster = gdal.GetDriverByName('GTiff').Create(outfn,ncols, nrows, 1 , gdal.GDT_Float32)  # Open the file\n",
    "    output_raster.SetGeoTransform(geotransform)  # Specify coords\n",
    "    srs = osr.SpatialReference()                 # Establish encoding\n",
    "    srs.ImportFromEPSG(4326)                     # WGS84 lat long\n",
    "    output_raster.SetProjection(srs.ExportToWkt() )   # Export coordinate system \n",
    "    output_raster.GetRasterBand(1).WriteArray(array)   # Write array to raster\n",
    "    \n",
    "    print(\"wrote {}\".format(outfn))\n",
    "    return outfn\n"
   ]
  },
  {
   "cell_type": "code",
   "execution_count": 5,
   "id": "d715ce55",
   "metadata": {},
   "outputs": [
    {
     "name": "stderr",
     "output_type": "stream",
     "text": [
      "\r",
      "  0%|          | 0/23 [00:00<?, ?it/s]"
     ]
    },
    {
     "name": "stdout",
     "output_type": "stream",
     "text": [
      "processing:\n",
      "NASA/GPM_L3/IMERG_V06/20000601000000\n"
     ]
    },
    {
     "name": "stderr",
     "output_type": "stream",
     "text": [
      "100%|██████████| 23/23 [00:07<00:00,  3.19it/s]\n",
      "100%|██████████| 23/23 [00:00<00:00, 121.94it/s]"
     ]
    },
    {
     "name": "stdout",
     "output_type": "stream",
     "text": [
      "postprocesing\n",
      "====COMPLETE=====\n"
     ]
    },
    {
     "name": "stderr",
     "output_type": "stream",
     "text": [
      "\n"
     ]
    }
   ],
   "source": [
    "# Convert gdf to ee object\n",
    "area = gdf_to_ee_poly(gdf)\n",
    "\n",
    "# specify start / end \n",
    "startdate = '2021-12-01'\n",
    "enddate = '2021-12-31'\n",
    "\n",
    "# gpm = get_ims_monthly(data['gpm_daily'], startdate, enddate, area)\n",
    "gpm = get_ims_daily(data['gpm_daily'], startdate, enddate, area)"
   ]
  },
  {
   "cell_type": "code",
   "execution_count": 6,
   "id": "1dcc58d7",
   "metadata": {},
   "outputs": [
    {
     "name": "stderr",
     "output_type": "stream",
     "text": [
      "<ipython-input-6-d4ad99a95bb1>:2: RuntimeWarning: Mean of empty slice\n",
      "  temporal_mean = np.nanmean(np.dstack(gpm), axis = 2)\n"
     ]
    }
   ],
   "source": [
    "# stack the ims and calc mean\n",
    "temporal_mean = np.nanmean(np.dstack(gpm), axis = 2)\n",
    "timeseries = np.array([np.nanmean(x) for x in gpm])"
   ]
  },
  {
   "cell_type": "code",
   "execution_count": 7,
   "id": "78a1a78e",
   "metadata": {},
   "outputs": [
    {
     "data": {
      "image/png": "[encoded data removed]",
      "text/plain": [
       "<Figure size 432x288 with 2 Axes>"
      ]
     },
     "metadata": {
      "needs_background": "light"
     },
     "output_type": "display_data"
    }
   ],
   "source": [
    "# plot\n",
    "plt.imshow(temporal_mean)\n",
    "plt.colorbar()\n",
    "plt.axis('off')\n",
    "plt.show()"
   ]
  },
  {
   "cell_type": "code",
   "execution_count": 8,
   "id": "057f0380",
   "metadata": {},
   "outputs": [
    {
     "data": {
      "text/plain": [
       "array([0.00555556, 0.03618181, 0.00288788, 0.01230769, 0.00525   ,\n",
       "       0.12113979, 0.1111433 , 0.00247199, 0.35435006, 0.00500808,\n",
       "       0.0117424 , 0.15701802, 0.66999227, 1.2432594 , 0.0480314 ,\n",
       "       0.07726374, 0.00902273, 0.02091004, 0.01930871, 0.03422014,\n",
       "       0.08950985, 0.45120406, 1.5948418 ], dtype=float32)"
      ]
     },
     "execution_count": 8,
     "metadata": {},
     "output_type": "execute_result"
    }
   ],
   "source": [
    "timeseries"
   ]
  },
  {
   "cell_type": "code",
   "execution_count": 9,
   "id": "ebe633ff",
   "metadata": {},
   "outputs": [
    {
     "data": {
      "text/plain": [
       "[<matplotlib.lines.Line2D at 0x7f9781aaf970>]"
      ]
     },
     "execution_count": 9,
     "metadata": {},
     "output_type": "execute_result"
    },
    {
     "data": {
      "image/png": "[encoded data removed]",
      "text/plain": [
       "<Figure size 432x288 with 1 Axes>"
      ]
     },
     "metadata": {
      "needs_background": "light"
     },
     "output_type": "display_data"
    }
   ],
   "source": [
    "dates = pd.date_range(startdate,enddate, freq = \"B\")\n",
    "plt.plot(dates, timeseries)"
   ]
  },
  {
   "cell_type": "code",
   "execution_count": 10,
   "id": "ed4f7bd0",
   "metadata": {},
   "outputs": [
    {
     "name": "stdout",
     "output_type": "stream",
     "text": [
      "wrote gpm.tif\n"
     ]
    },
    {
     "data": {
      "text/plain": [
       "'gpm.tif'"
      ]
     },
     "execution_count": 10,
     "metadata": {},
     "output_type": "execute_result"
    }
   ],
   "source": [
    "write_raster(temporal_mean, gdf, \"gpm.tif\")"
   ]
  },
  {
   "cell_type": "code",
   "execution_count": null,
   "id": "9404ab3b",
   "metadata": {},
   "outputs": [],
   "source": []
  }
 ],
 "metadata": {
  "kernelspec": {
   "display_name": "Python 3",
   "language": "python",
   "name": "python3"
  },
  "language_info": {
   "codemirror_mode": {
    "name": "ipython",
    "version": 3
   },
   "file_extension": ".py",
   "mimetype": "text/x-python",
   "name": "python",
   "nbconvert_exporter": "python",
   "pygments_lexer": "ipython3",
   "version": "3.8.10"
  }
 },
 "nbformat": 4,
 "nbformat_minor": 5
}
