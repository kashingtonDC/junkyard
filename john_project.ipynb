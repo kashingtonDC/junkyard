{
 "cells": [
  {
   "cell_type": "code",
   "execution_count": 1,
   "metadata": {},
   "outputs": [],
   "source": [
    "import os\n",
    "import ee\n",
    "import datetime\n",
    "\n",
    "import numpy as np\n",
    "import pandas as pd\n",
    "import rsfuncs as rs\n",
    "import geopandas as gp\n",
    "\n",
    "from tqdm import tqdm\n",
    "from shapely.geometry import Point,Polygon\n",
    "\n",
    "ee.Initialize()\n"
   ]
  },
  {
   "cell_type": "code",
   "execution_count": 2,
   "metadata": {},
   "outputs": [],
   "source": [
    "def get_ims(dataset, startdate,enddate, area, return_dates = False, table = False, monthly_mean = False,  monthly_sum = False):\n",
    "\n",
    "    '''\n",
    "    Returns gridded images for EE datasets \n",
    "    '''\n",
    "\n",
    "    if monthly_mean:\n",
    "        if monthly_sum:\n",
    "            raise ValueError(\"cannot perform mean and sum reduction at the same time\")              \n",
    "\n",
    "    ImageCollection = dataset[0]\n",
    "    var = dataset[1]\n",
    "    scaling_factor = dataset[2]\n",
    "    native_res = dataset[3]\n",
    "    start = ee.Date.fromYMD(startdate.year,startdate.month,startdate.day)\n",
    "    end = ee.Date.fromYMD(enddate.year,enddate.month,enddate.day)\n",
    "    \n",
    "    im1 = ee.ImageCollection(ImageCollection).select(var).filterDate(start, end).mean().set('system:time_start', end.millis())\n",
    "    im = ee.ImageCollection(im1)\n",
    "    result = im.getRegion(area,native_res,\"epsg:4326\").getInfo()\n",
    "\n",
    "    header, data = im[0], im[1:]\n",
    "\n",
    "    df = pd.DataFrame(np.column_stack(data).T, columns = header)\n",
    "    df.latitude = pd.to_numeric(df.latitude)\n",
    "    df.longitude = pd.to_numeric(df.longitude)\n",
    "    df[var] = pd.to_numeric(df[var])\n",
    "\n",
    "    return df\n",
    "\n",
    "def df_from_ee_object(imcol):\n",
    "    df = pd.DataFrame(imcol, columns = imcol[0])\n",
    "    df = df[1:]\n",
    "    return(df)\n",
    "\n",
    "def array_from_df(df, variable):\n",
    "    \n",
    "    # get data from df as arrays\n",
    "    lons = np.array(df.longitude)\n",
    "    lats = np.array(df.latitude)\n",
    "    data = np.array(df[variable]) # Set var here \n",
    "                                              \n",
    "    # get the unique coordinates\n",
    "    uniqueLats = np.unique(lats)\n",
    "    uniqueLons = np.unique(lons)\n",
    "\n",
    "    # get number of columns and rows from coordinates\n",
    "    ncols = len(uniqueLons)    \n",
    "    nrows = len(uniqueLats)\n",
    "\n",
    "    # determine pixelsizes\n",
    "    ys = uniqueLats[1] - uniqueLats[0] \n",
    "    xs = uniqueLons[1] - uniqueLons[0]\n",
    "\n",
    "    # create an array with dimensions of image\n",
    "    arr = np.zeros([nrows, ncols], np.float32)\n",
    "\n",
    "    # fill the array with values\n",
    "    counter =0\n",
    "    for y in range(0,len(arr),1):\n",
    "        for x in range(0,len(arr[0]),1):\n",
    "            if lats[counter] == uniqueLats[y] and lons[counter] == uniqueLons[x] and counter < len(lats)-1:\n",
    "                counter+=1\n",
    "                arr[len(uniqueLats)-1-y,x] = data[counter] # we start from lower left corner\n",
    "    \n",
    "    return arr\n",
    "\n",
    "def filter_date(product,y,m,d):\n",
    "    start = ee.Date.fromYMD(y,m,d).advance(-1, \"day\")\n",
    "    end = ee.Date.fromYMD(y,m,d)\n",
    "    prod = product.filterDate(start, end).sort('system:time_start', False).select(\"ppt\")\n",
    "    return prod\n",
    "\n",
    "def get_2day_precip(latlon_obj, area):\n",
    "    res = latlon_obj.reduceRegion(reducer=ee.Reducer.sum(),geometry=area,scale=10)\n",
    "    data = np.array((ee.Array(res.get(\"ppt\")).getInfo()))\n",
    "    out = np.array(data)\n",
    "    return out \n",
    "\n",
    "\n",
    "def round_up_to_odd(f):\n",
    "    f = int(np.ceil(f))\n",
    "    return f + 1 if f % 2 == 0 else f"
   ]
  },
  {
   "cell_type": "code",
   "execution_count": 3,
   "metadata": {},
   "outputs": [],
   "source": [
    "\n",
    "# Read teh excel sheet\n",
    "df = pd.read_excel(\"/Users/aakash/Desktop/junkyard/ISCN_SOC-DATA_PROFILE_1-1.xlsx\")\n",
    "\n",
    "# filter USA only\n",
    "df = df[df['country (country)'] == 'United States']\n",
    "df['date'] = pd.to_datetime(df['observation_date (YYYY-MM-DD)'],errors='coerce')\n",
    "# drop nans from date, lats, lons, drop alaska\n",
    "df = df[df['lat (dec. deg)'].notna()]\n",
    "df = df[df['date'].notna()] \n",
    "df = df[df['long (dec. deg)'].notna()]\n",
    "df = df[df['observation_date (YYYY-MM-DD)'].notna()]\n",
    "df = df[~df['state (state_province)'].isin(['Alaska','Puerto Rico','American Samoa', 'Northern Mariana Islands','Hawaii'])]\n",
    "\n",
    "# Make into geodataframe\n",
    "geometry = [Point(xy) for xy in zip(df['long (dec. deg)'], df['lat (dec. deg)'])]\n",
    "df = df.drop(['long (dec. deg)','lat (dec. deg)'], axis=1)\n",
    "gdf = gp.GeoDataFrame(df, crs=\"EPSG:4326\", geometry=geometry)\n",
    "\n",
    "# load RS data\n",
    "data = rs.load_data()\n",
    "\n",
    "# Time step (days)\n",
    "step = datetime.timedelta(30)"
   ]
  },
  {
   "cell_type": "code",
   "execution_count": 4,
   "metadata": {},
   "outputs": [],
   "source": [
    "pointList = [(-127.4119140625, 50.36277310359092),\n",
    "          (-127.4119140625, 23.830272850016865),\n",
    "          (-63.51542968750001, 23.830272850016865),\n",
    "          (-63.51542968750001, 50.36277310359092)]\n",
    "\n",
    "poly = Polygon(pointList)\n",
    "spoly = gp.GeoSeries([poly],crs=gdf.crs)\n",
    "\n",
    "usa = gdf[gdf.within(spoly.geometry.iloc[0])]"
   ]
  },
  {
   "cell_type": "code",
   "execution_count": 5,
   "metadata": {},
   "outputs": [
    {
     "data": {
      "text/plain": [
       "<matplotlib.axes._subplots.AxesSubplot at 0x126ecbbb0>"
      ]
     },
     "execution_count": 5,
     "metadata": {},
     "output_type": "execute_result"
    },
    {
     "data": {
      "image/png": "[encoded data removed]",
      "text/plain": [
       "<Figure size 432x288 with 1 Axes>"
      ]
     },
     "metadata": {
      "needs_background": "light"
     },
     "output_type": "display_data"
    }
   ],
   "source": [
    "usa.plot()"
   ]
  },
  {
   "cell_type": "code",
   "execution_count": 6,
   "metadata": {},
   "outputs": [
    {
     "data": {
      "text/plain": [
       "31301"
      ]
     },
     "execution_count": 6,
     "metadata": {},
     "output_type": "execute_result"
    }
   ],
   "source": [
    "len(usa)"
   ]
  },
  {
   "cell_type": "code",
   "execution_count": 7,
   "metadata": {},
   "outputs": [],
   "source": [
    "out = []"
   ]
  },
  {
   "cell_type": "code",
   "execution_count": null,
   "metadata": {},
   "outputs": [
    {
     "name": "stderr",
     "output_type": "stream",
     "text": [
      "5it [00:10,  2.18s/it]"
     ]
    }
   ],
   "source": [
    "# query the (1) NLCD landcover (2) Landsat Bands 1-7 for each site \n",
    "   \n",
    "for idx, row in tqdm(usa[:25].iterrows()):\n",
    "    \n",
    "    stid = row['site_name']\n",
    "            \n",
    "    # Make geom to submit to EE \n",
    "    x,y = row.geometry.buffer(0.0001).envelope.exterior.coords.xy\n",
    "    coords = [list(zip(x,y))]\n",
    "    area = ee.Geometry.Polygon(coords)\n",
    "    \n",
    "    # Set start/end dates for landsat \n",
    "    startdate = row['date'] \n",
    "    sd = startdate - step\n",
    "    enddate = startdate + step\n",
    "    start = ee.Date.fromYMD(sd.year,sd.month,sd.day)\n",
    "    end = ee.Date.fromYMD(enddate.year,enddate.month,enddate.day)\n",
    "    \n",
    "    date = startdate.strftime(\"%Y-%m-%d\")\n",
    "    \n",
    "    # Select the nlcd dataset\n",
    "    dataset =  rs.load_data()['nlcd']\n",
    "    ic = dataset[0]\n",
    "    var = dataset[1]\n",
    "    res = dataset[3]\n",
    "    \n",
    "    # find the nearest nlcd dataset\n",
    "    col = ic.filterDate(ee.Date(date).advance(-1, 'years'), ee.Date(date).advance(2, 'years')).first()\n",
    "    if not col.getInfo():\n",
    "        col = ic.filterDate(ee.Date(date).advance(-3, 'years'), ee.Date(date).advance(2, 'years')).first()\n",
    "    t = col.reduceRegion(ee.Reducer.frequencyHistogram(), area, res).get(var)\n",
    "    meta = col.getInfo()\n",
    "    lc_class = int(list(t.getInfo().keys())[0])\n",
    "    \n",
    "    # Get the landcover type\n",
    "    lcidx = meta['properties']['landcover_class_values'].index(lc_class)\n",
    "    lctype = meta['properties']['landcover_class_names'][lcidx]\n",
    "        \n",
    "    # Get precip data \n",
    "    t = filter_date(rs.load_data()['prism_daily'][0], sd.year, sd.month, sd.day).sum()\n",
    "    precip_total = get_2day_precip(t, area)\n",
    "\n",
    "    # Landsat - Note: some sites are in the overlap areas between passes.\n",
    "    # these sites can have multiple obs / day or obs separated by 8days instead of 16. \n",
    "    \n",
    "    if startdate.year > 2013:\n",
    "        lic = ee.ImageCollection(\"LANDSAT/LC08/C01/T1_SR\")\n",
    "    elif startdate.year < 2013 and startdate.year > 2000:\n",
    "        lic = ee.ImageCollection(\"LANDSAT/LE07/C01/T1_SR\")\n",
    "    elif startdate.year < 2000:\n",
    "        lic = ee.ImageCollection(\"LANDSAT/LT05/C01/T1_SR\")\n",
    "    else:\n",
    "        continue\n",
    "       \n",
    "    # scale factor\n",
    "    lsf = 30\n",
    "\n",
    "    lstart = ee.Date.fromYMD(startdate.year,startdate.month,startdate.day).advance(-9,\"day\")\n",
    "    lend = ee.Date.fromYMD(enddate.year,enddate.month,enddate.day).advance(8, \"day\")\n",
    "\n",
    "    l8_col = lic.filterDate(lstart,lend).filterBounds(area).map(rs.mask_quality) # Mask clouds and shadows \n",
    "    lt = l8_col.sort('system:time_start')\n",
    "    lims = lt.toList(lt.size())\n",
    "\n",
    "    num_ims = len(lims.getInfo())\n",
    "\n",
    "    ldfs = []\n",
    "\n",
    "    for i in range(0, num_ims):\n",
    "\n",
    "        ls_latlon = ee.Image.pixelLonLat().addBands(lims.get(i))\n",
    "        ltemp = ls_latlon.select([\"B1\",\"B2\",\"B3\",\"B4\",\"B5\",\"B6\",\"B7\"]).multiply(lsf)\n",
    "        l8_res = ltemp.reduceRegion(reducer=ee.Reducer.mean(),geometry=area,bestEffort=True,scale=30)\n",
    "\n",
    "        l8_info_dict = lims.get(i).getInfo()\n",
    "        l8_date = l8_info_dict['id'][-8:]\n",
    "\n",
    "        l8_out = l8_res.getInfo()\n",
    "\n",
    "        ldf = pd.DataFrame.from_dict(l8_out.values()).T\n",
    "        ldf.columns = l8_out.keys()\n",
    "        ldf.index = pd.to_datetime([l8_date])\n",
    "        ldfs.append(ldf)\n",
    "    \n",
    "    dfout = row.copy()\n",
    "    fin_ls = pd.DataFrame(pd.concat(ldfs).mean()).T\n",
    "    \n",
    "    df1 = pd.DataFrame(dfout).T\n",
    "    df2 = pd.DataFrame(fin_ls.mean()).T\n",
    "\n",
    "    df1.reset_index(drop=True, inplace=True)\n",
    "    df2.reset_index(drop=True, inplace=True)\n",
    "    \n",
    "    outdf = pd.concat([df1,df2], axis = 1)\n",
    "    outdf['lc_type'] = lctype.split(\"-\")[0]\n",
    "    outdf['precip'] = precip_total\n",
    "\n",
    "    out.append(outdf)\n"
   ]
  },
  {
   "cell_type": "code",
   "execution_count": null,
   "metadata": {},
   "outputs": [],
   "source": [
    "findat = pd.concat(out)"
   ]
  },
  {
   "cell_type": "code",
   "execution_count": null,
   "metadata": {},
   "outputs": [],
   "source": [
    "findat"
   ]
  },
  {
   "cell_type": "code",
   "execution_count": null,
   "metadata": {},
   "outputs": [],
   "source": [
    "findat.to_csv(\"soc_dat.csv\")"
   ]
  }
 ],
 "metadata": {
  "kernelspec": {
   "display_name": "Python 3",
   "language": "python",
   "name": "python3"
  },
  "language_info": {
   "codemirror_mode": {
    "name": "ipython",
    "version": 3
   },
   "file_extension": ".py",
   "mimetype": "text/x-python",
   "name": "python",
   "nbconvert_exporter": "python",
   "pygments_lexer": "ipython3",
   "version": "3.8.2"
  }
 },
 "nbformat": 4,
 "nbformat_minor": 4
}
