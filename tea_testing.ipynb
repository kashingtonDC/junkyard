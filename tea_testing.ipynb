{
 "cells": [
  {
   "cell_type": "code",
   "execution_count": 1,
   "id": "a5d3c675",
   "metadata": {},
   "outputs": [],
   "source": [
    "import geopandas as gp"
   ]
  },
  {
   "cell_type": "code",
   "execution_count": 3,
   "id": "80906afa",
   "metadata": {},
   "outputs": [],
   "source": [
    "gdf= gp.read_file(\"shape/usgs_q_stations.shp\")"
   ]
  },
  {
   "cell_type": "code",
   "execution_count": 4,
   "id": "26719bbc",
   "metadata": {},
   "outputs": [
    {
     "data": {
      "text/plain": [
       "<AxesSubplot:>"
      ]
     },
     "execution_count": 4,
     "metadata": {},
     "output_type": "execute_result"
    },
    {
     "data": {
      "image/png": "[encoded data removed]",
      "text/plain": [
       "<Figure size 432x288 with 1 Axes>"
      ]
     },
     "metadata": {
      "needs_background": "light"
     },
     "output_type": "display_data"
    }
   ],
   "source": [
    "gdf.plot()"
   ]
  },
  {
   "cell_type": "code",
   "execution_count": 8,
   "id": "00701a34",
   "metadata": {},
   "outputs": [
    {
     "data": {
      "text/plain": [
       "<AxesSubplot:>"
      ]
     },
     "execution_count": 8,
     "metadata": {},
     "output_type": "execute_result"
    },
    {
     "data": {
      "image/png": "[encoded data removed]",
      "text/plain": [
       "<Figure size 432x288 with 1 Axes>"
      ]
     },
     "metadata": {
      "needs_background": "light"
     },
     "output_type": "display_data"
    }
   ],
   "source": [
    "stn_list = [11383500,11390000,11406900,11407000]\n",
    "stns = [str(x) for x in stn_list]\n",
    "\n",
    "gdf[gdf['ID'].isin(stns)].plot()"
   ]
  },
  {
   "cell_type": "code",
   "execution_count": 10,
   "id": "7268f613",
   "metadata": {},
   "outputs": [
    {
     "data": {
      "text/plain": [
       "<AxesSubplot:>"
      ]
     },
     "execution_count": 10,
     "metadata": {},
     "output_type": "execute_result"
    },
    {
     "data": {
      "image/png": "[encoded data removed]",
      "text/plain": [
       "<Figure size 432x288 with 1 Axes>"
      ]
     },
     "metadata": {
      "needs_background": "light"
     },
     "output_type": "display_data"
    }
   ],
   "source": [
    "gdf.plot()"
   ]
  },
  {
   "cell_type": "code",
   "execution_count": 11,
   "id": "34bdc09b",
   "metadata": {},
   "outputs": [],
   "source": [
    "import climata"
   ]
  },
  {
   "cell_type": "code",
   "execution_count": null,
   "id": "bcf60a0f",
   "metadata": {},
   "outputs": [],
   "source": [
    "climata.SiteIO(NwisLoader, RdbParser, TupleMapper, BaseIO):\n",
    "    \"\"\"\n",
    "    Loads USGS site metadata from NWIS webservices (via RDB format).\n",
    "    Usage:\n",
    "        site_params = SiteIO(basin='02070010')\n",
    "        for site_param in site_params:\n",
    "            print site_param.site_no, site_param.parm_cd, site_param.end_date\n",
    "    \"\"\"\n",
    "\n",
    "    service = \"site\"\n",
    "    default_params = {\n",
    "        'format': 'rdb,1.0',\n",
    "        'outputDataTypeCd': 'all',\n",
    "        'siteStatus': 'active',\n",
    "    }\n"
   ]
  },
  {
   "cell_type": "code",
   "execution_count": 12,
   "id": "469aee2b",
   "metadata": {},
   "outputs": [
    {
     "ename": "ImportError",
     "evalue": "cannot import name 'StationDataIO' from 'climata.usgs' (/Users/aakashahamed/anaconda3/envs/rsenv/lib/python3.8/site-packages/climata/usgs/__init__.py)",
     "output_type": "error",
     "traceback": [
      "\u001b[0;31m---------------------------------------------------------------------------\u001b[0m",
      "\u001b[0;31mImportError\u001b[0m                               Traceback (most recent call last)",
      "\u001b[0;32m<ipython-input-12-af4b0bdcfb61>\u001b[0m in \u001b[0;36m<module>\u001b[0;34m\u001b[0m\n\u001b[0;32m----> 1\u001b[0;31m \u001b[0;32mfrom\u001b[0m \u001b[0mclimata\u001b[0m\u001b[0;34m.\u001b[0m\u001b[0musgs\u001b[0m \u001b[0;32mimport\u001b[0m \u001b[0mStationDataIO\u001b[0m\u001b[0;34m\u001b[0m\u001b[0;34m\u001b[0m\u001b[0m\n\u001b[0m\u001b[1;32m      2\u001b[0m \u001b[0;34m\u001b[0m\u001b[0m\n",
      "\u001b[0;31mImportError\u001b[0m: cannot import name 'StationDataIO' from 'climata.usgs' (/Users/aakashahamed/anaconda3/envs/rsenv/lib/python3.8/site-packages/climata/usgs/__init__.py)"
     ]
    }
   ],
   "source": [
    "from climata.usgs import StationDataIO\n",
    "\n"
   ]
  },
  {
   "cell_type": "code",
   "execution_count": 14,
   "id": "6661f4a3",
   "metadata": {},
   "outputs": [
    {
     "data": {
      "text/plain": [
       "<module 'climata.usgs' from '/Users/aakashahamed/anaconda3/envs/rsenv/lib/python3.8/site-packages/climata/usgs/__init__.py'>"
      ]
     },
     "execution_count": 14,
     "metadata": {},
     "output_type": "execute_result"
    }
   ],
   "source": [
    "climata.usgs"
   ]
  },
  {
   "cell_type": "code",
   "execution_count": null,
   "id": "ea171c02",
   "metadata": {},
   "outputs": [],
   "source": []
  },
  {
   "cell_type": "code",
   "execution_count": null,
   "id": "f2b6fbf5",
   "metadata": {},
   "outputs": [],
   "source": [
    "def get_streamflow(huc8):\n",
    "\t'''\n",
    "\tfor a huc8 (e.g. 18020162), call climata api and get streamflow for all stations within boundary\n",
    "\t'''\n",
    "\t\n",
    "\tdata =  DailyValueIO (\n",
    "\t\t\tstart_date=\"1997-01-01\", \n",
    "\t\t\tend_date=\"2021-01-01\",\n",
    "\t\t\tbasin=huc8,\n",
    "\t\t\tparameter=\"00060\",\n",
    "\t\t\t)\n",
    "\t\n",
    "\tqs = []\n",
    "\tds = []\n",
    "\tlats = []\n",
    "\tlons = []\n",
    "\tids = []\n",
    "\n",
    "\tfor series in data:\n",
    "\t\tvalues = []\n",
    "\t\tdates = []\n",
    "\t\tlats.append(series.latitude)\n",
    "\t\tlons.append(series.longitude)\n",
    "\t\tids.append(series.site_code)\n",
    "\n",
    "\t\tfor row in series.data:\n",
    "\t\t\tvalues.append(row.value)\n",
    "\t\t\tdates.append(row.date)\n",
    "\n",
    "\t\tqs.append(values)\n",
    "\t\tds.append(dates)\n",
    "\t\n",
    "\tgeometry = [Point(xy) for xy in zip(lons, lats)]\n",
    "\tdf = pd.DataFrame(geometry)\n",
    "\tcrs = {'init': 'epsg:4326'}\n",
    "\tgdf = gp.GeoDataFrame(df, crs=crs, geometry=geometry)\n",
    "\t\n",
    "\treturn gdf, qs, ds, ids"
   ]
  }
 ],
 "metadata": {
  "kernelspec": {
   "display_name": "Python 3",
   "language": "python",
   "name": "python3"
  },
  "language_info": {
   "codemirror_mode": {
    "name": "ipython",
    "version": 3
   },
   "file_extension": ".py",
   "mimetype": "text/x-python",
   "name": "python",
   "nbconvert_exporter": "python",
   "pygments_lexer": "ipython3",
   "version": "3.8.10"
  }
 },
 "nbformat": 4,
 "nbformat_minor": 5
}
