{
 "cells": [
  {
   "cell_type": "code",
   "execution_count": null,
   "metadata": {},
   "outputs": [],
   "source": [
    "import os\n",
    "import numpy as np\n",
    "import pandas as pd\n",
    "import matplotlib.pyplot as plt"
   ]
  },
  {
   "cell_type": "code",
   "execution_count": null,
   "metadata": {},
   "outputs": [],
   "source": [
    "# Compound interest function\n",
    "def compute(r,t, P):\n",
    "    final = P * (((1 + r) ** (t)))\n",
    "    return final"
   ]
  },
  {
   "cell_type": "code",
   "execution_count": null,
   "metadata": {},
   "outputs": [],
   "source": [
    "# Params \n",
    "P = 5000 # Principal\n",
    "nyears = 50 # Number of years \n",
    "t = np.linspace(1,nyears, nyears-1) # Time period for x ax "
   ]
  },
  {
   "cell_type": "code",
   "execution_count": null,
   "metadata": {},
   "outputs": [],
   "source": [
    "# Compute and plot \n",
    "plt.figure(figsize=(9,6))\n",
    "\n",
    "for i in np.linspace(0.03, 0.2, 5): #[0.05,0.07,0.09, 0.11]:\n",
    "    plt.plot(compute(i,t, P), label = str(int(i*100)) + \" %\")\n",
    "\n",
    "plt.plot(compute(0.08,t, P), '--',color = 'black', \n",
    "         label = '''S&P500 \n",
    "Avg ~8%\n",
    "1956 - 2018''')\n",
    "\n",
    "plt.ylim(0,2e5)\n",
    "plt.xlim(0,40)\n",
    "plt.legend(loc = 'upper left', title=\"R\", prop={'size':14})\n",
    "plt.grid()\n",
    "plt.title('''\n",
    "\n",
    "        Value of ${} over time for 3% - 15% Annual Return on Investment\n",
    "            $ V(t) = 5000 * (1+R)^t$\n",
    "'''.format(P),  size = 17)\n",
    "\n",
    "plt.ylabel(\"$ USD (V)\", size = 15)\n",
    "plt.xlabel(\"Number of years\", size = 15)\n",
    "\n",
    "ax = plt.gca()\n",
    "ax.set_yticklabels(['{:,}'.format(int(x)) for x in ax.get_yticks().tolist()])\n",
    "\n",
    "plt.show()"
   ]
  },
  {
   "cell_type": "code",
   "execution_count": null,
   "metadata": {},
   "outputs": [],
   "source": []
  }
 ],
 "metadata": {
  "kernelspec": {
   "display_name": "Python 3",
   "language": "python",
   "name": "python3"
  },
  "language_info": {
   "codemirror_mode": {
    "name": "ipython",
    "version": 3
   },
   "file_extension": ".py",
   "mimetype": "text/x-python",
   "name": "python",
   "nbconvert_exporter": "python",
   "pygments_lexer": "ipython3",
   "version": "3.6.11"
  }
 },
 "nbformat": 4,
 "nbformat_minor": 4
}
